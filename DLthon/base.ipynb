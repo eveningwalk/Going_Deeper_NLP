{
 "cells": [
  {
   "cell_type": "code",
   "execution_count": 15,
   "id": "adcaea92",
   "metadata": {},
   "outputs": [],
   "source": [
    "import os\n",
    "from konlpy.tag import Mecab\n",
    "import pandas as pd\n",
    "import numpy as np\n",
    "from collections import Counter\n",
    "tokenizer = Mecab()"
   ]
  },
  {
   "cell_type": "code",
   "execution_count": 2,
   "id": "222c3329",
   "metadata": {},
   "outputs": [
    {
     "name": "stdout",
     "output_type": "stream",
     "text": [
      "   idx      class                                       conversation\n",
      "0    0      협박 대화  지금 너 스스로를 죽여달라고 애원하는 것인가?\\n 아닙니다. 죄송합니다.\\n 죽을 ...\n",
      "1    1      협박 대화  길동경찰서입니다.\\n9시 40분 마트에 폭발물을 설치할거다.\\n네?\\n똑바로 들어 ...\n",
      "2    2  기타 괴롭힘 대화  너 되게 귀여운거 알지? 나보다 작은 남자는 첨봤어.\\n그만해. 니들 놀리는거 재미...\n",
      "3    3      갈취 대화  어이 거기\\n예??\\n너 말이야 너. 이리 오라고\\n무슨 일.\\n너 옷 좋아보인다?...\n",
      "4    4      갈취 대화  저기요 혹시 날이 너무 뜨겁잖아요? 저희 회사에서 이 선크림 파는데 한 번 손등에 ...\n"
     ]
    }
   ],
   "source": [
    "df = pd.read_csv('./data/train.csv')\n",
    "print(df.head())\n"
   ]
  },
  {
   "cell_type": "code",
   "execution_count": 22,
   "id": "9363a2b1",
   "metadata": {},
   "outputs": [],
   "source": [
    "# class별로 document 모으기\n",
    "documents_by_class = df.groupby('class')['conversation'].apply(list)\n",
    "cls_nm = documents_by_class.index.tolist()\n",
    "cls_cnt = []\n",
    "for class_name, documents in documents_by_class.items():\n",
    "    result = []\n",
    "    for content in documents :\n",
    "        tokenlist = tokenizer.pos(content) \n",
    "        for word in tokenlist:\n",
    "#                 if 'NNG' == word[1] or 'NNP' == word[1] or 'VV' == word[1]:#명사/동사\n",
    "            result.append((word[0]+'__'+word[1].lower())) \n",
    "    cls_cnt.append(result)\n",
    "assert len(cls_nm) == len(cls_cnt)"
   ]
  },
  {
   "cell_type": "code",
   "execution_count": 25,
   "id": "a91555f9",
   "metadata": {
    "scrolled": true
   },
   "outputs": [
    {
     "name": "stdout",
     "output_type": "stream",
     "text": [
      "\n",
      "\n",
      "갈취 대화 : 줄래__vv+ef, 차비__nng, 뒤져서__vv+ec, 빌려줘__vv+ec+vx+ec, 현금__nng, 용돈__nng, 시계__nng, 원__nnbc, 지갑__nng, 빌려줄__vv+ec+vx+etm, 내놔__vv+ec, 만__nr, 돌려줄__vv+etm, 빌려__vv+ec, 100__sn, 입금__nng, 억__nr, 돌려주__vv, 빌리__vv, 내놔__vv+ef, 주머니__nng, 계좌__nng, 핸드폰__nng, 가진__vv+etm, 벗__vv, 백__nr, 돈__nng, 내놓__vv, 선물__nng, 천__nr, \n",
      "\n",
      "기타 괴롭힘 대화 : 장애__nng, 못생긴__va+etm, 뚱뚱__xr, 인__xsn, 돼지__nng, 고객__nng, 닮__vv, 냄새__nng, 환불__nng, 놀리__vv, 씻__vv, 존나__mag, 따라__vv+ec, 찐따__nng, 괴롭히__vv, 배달__nng, 쟤__np, 병신__nng, 얘__np, 키__nng, 손님__nng, 거지__nng, 작__va, 아가씨__nng, 재밌__va, 개__nng, 공부__nng, 수업__nng, 음식__nng, 주제__nng, \n",
      "\n",
      "직장 내 괴롭힘 대화 : 연차__nng, 주임__nng, 사원__nng, 야근__nng, 부장__nng, 신입__nng, 휴가__nng, 인턴__nng, 입사__nng, 업무__nng, 프로젝트__nng, 상사__nng, 보고서__nng, 작성__nng, 대리__nng, 회식__nng, 회의__nng, 부서__nng, 과장__nng, 팀장__nng, 퇴근__nng, 박__nnp, 승진__nng, 주말__nng, 출근__nng, 팀__nng, 씨__nnb, 수정__nng, 점심__nng, 회사__nng, \n",
      "\n",
      "협박 대화 : 죽여__vv+ec, 장기__nng, 죽이__vv, 죽일__vv+etm, 고통__nng, 버릴__vx+etm, 헤어지__vv, 목숨__nng, 칼__nng, 살려__vv+ec, 협박__nng, 풀__vv, 건들__vv, 죽__vv, 문__nng, 피__nng, 약__nng, 버린다__vx+ef, 가족__nng, 버리__vx, 널__np+jko, 가만__mag, 사랑__nng, 경찰__nng, 죄__nng, 당장__mag, 딸__nng, 확__mag, 여보__ic, 손가락__nng, "
     ]
    }
   ],
   "source": [
    "total_counts = Counter('')\n",
    "temp = []\n",
    "for i in range(len(cls_nm)):\n",
    "    word_counts = Counter(cls_cnt[i])\n",
    "    total_counts = total_counts + word_counts\n",
    "    temp.append(word_counts)\n",
    "temp2 =[]\n",
    "for i in range(len(cls_nm)):\n",
    "    word_ratios = {word: count / total_counts[word] if word in total_counts else 1 for word, count in temp[i].items() if count > 30}\n",
    "    sorted_word_ratios = sorted(word_ratios.items(), key=lambda x: x[1], reverse=True)\n",
    "    temp2.append(sorted_word_ratios)\n",
    "for tt in range(len(temp2)) :\n",
    "    print('\\n\\n'+cls_nm[tt], end=' : ')\n",
    "    for i in range(min(30,len(temp2[tt]))) :\n",
    "#         print(str(temp2[tt][i]), end=', ')\n",
    "        print(str(temp2[tt][i][0]), end=', ')"
   ]
  },
  {
   "cell_type": "markdown",
   "id": "263148ad",
   "metadata": {},
   "source": [
    "# 나이브 베이지안"
   ]
  },
  {
   "cell_type": "code",
   "execution_count": 51,
   "id": "0a6a39a5",
   "metadata": {},
   "outputs": [],
   "source": [
    "from sklearn.feature_extraction.text import CountVectorizer\n",
    "from sklearn.preprocessing import LabelEncoder\n",
    "from sklearn.model_selection import train_test_split\n",
    "from sklearn.naive_bayes import MultinomialNB\n",
    "from sklearn.metrics import accuracy_score #정확도 계산"
   ]
  },
  {
   "cell_type": "code",
   "execution_count": 28,
   "id": "e2d0652e",
   "metadata": {},
   "outputs": [
    {
     "name": "stdout",
     "output_type": "stream",
     "text": [
      "   idx      class                                       conversation\n",
      "0    0      협박 대화  지금 너 스스로를 죽여달라고 애원하는 것인가?\\n 아닙니다. 죄송합니다.\\n 죽을 ...\n",
      "1    1      협박 대화  길동경찰서입니다.\\n9시 40분 마트에 폭발물을 설치할거다.\\n네?\\n똑바로 들어 ...\n",
      "2    2  기타 괴롭힘 대화  너 되게 귀여운거 알지? 나보다 작은 남자는 첨봤어.\\n그만해. 니들 놀리는거 재미...\n",
      "3    3      갈취 대화  어이 거기\\n예??\\n너 말이야 너. 이리 오라고\\n무슨 일.\\n너 옷 좋아보인다?...\n",
      "4    4      갈취 대화  저기요 혹시 날이 너무 뜨겁잖아요? 저희 회사에서 이 선크림 파는데 한 번 손등에 ...\n"
     ]
    }
   ],
   "source": [
    "print(df.head())"
   ]
  },
  {
   "cell_type": "code",
   "execution_count": 46,
   "id": "822f63da",
   "metadata": {},
   "outputs": [
    {
     "name": "stdout",
     "output_type": "stream",
     "text": [
      "3950\n",
      "3950\n"
     ]
    }
   ],
   "source": [
    "train = []\n",
    "for index, row in df.iterrows():\n",
    "#     print(row['conversation'])\n",
    "    result = ''\n",
    "    tokenlist = tokenizer.pos(row['conversation']) \n",
    "    for word in tokenlist:\n",
    "#                 if 'NNG' == word[1] or 'NNP' == word[1] or 'VV' == word[1]:#명사/동사\n",
    "        result = result + ' ' + word[0]+'__'+word[1].lower() \n",
    "    train.append(result)\n",
    "print(len(train))\n",
    "print(len(df))"
   ]
  },
  {
   "cell_type": "code",
   "execution_count": 38,
   "id": "9ae783e4",
   "metadata": {},
   "outputs": [],
   "source": [
    "encoder = LabelEncoder()\n",
    "df['class'] = encoder.fit_transform(df['class'])"
   ]
  },
  {
   "cell_type": "code",
   "execution_count": 47,
   "id": "ab6ea3b3",
   "metadata": {},
   "outputs": [],
   "source": [
    "# 데이터셋 분리\n",
    "X_train, X_val, y_train, y_val = train_test_split(train, df['class'], test_size=0.1, random_state=77)"
   ]
  },
  {
   "cell_type": "code",
   "execution_count": 48,
   "id": "a7a91fff",
   "metadata": {},
   "outputs": [
    {
     "name": "stdout",
     "output_type": "stream",
     "text": [
      "3555\n",
      "395\n",
      "3555\n",
      "395\n"
     ]
    }
   ],
   "source": [
    "print(len(X_train))\n",
    "print(len(X_val))\n",
    "print(len(y_train))\n",
    "print(len(y_val))"
   ]
  },
  {
   "cell_type": "code",
   "execution_count": 49,
   "id": "07a290c3",
   "metadata": {},
   "outputs": [],
   "source": [
    "vectorizer = CountVectorizer()\n",
    "X_train = vectorizer.fit_transform(X_train)\n",
    "X_val = vectorizer.transform(X_val) #테스트 데이터를 DTM으로 변환"
   ]
  },
  {
   "cell_type": "code",
   "execution_count": 52,
   "id": "42f7d402",
   "metadata": {},
   "outputs": [
    {
     "name": "stdout",
     "output_type": "stream",
     "text": [
      "NB 정확도: 0.8683544303797468\n"
     ]
    }
   ],
   "source": [
    "model = MultinomialNB()\n",
    "model.fit(X_train, y_train)\n",
    "predicted = model.predict(X_val) #테스트 데이터에 대한 예측\n",
    "print(\"NB 정확도:\", accuracy_score(y_val, predicted)) #예측값과 실제값 비교"
   ]
  }
 ],
 "metadata": {
  "kernelspec": {
   "display_name": "Python 3 (ipykernel)",
   "language": "python",
   "name": "python3"
  },
  "language_info": {
   "codemirror_mode": {
    "name": "ipython",
    "version": 3
   },
   "file_extension": ".py",
   "mimetype": "text/x-python",
   "name": "python",
   "nbconvert_exporter": "python",
   "pygments_lexer": "ipython3",
   "version": "3.9.7"
  }
 },
 "nbformat": 4,
 "nbformat_minor": 5
}
