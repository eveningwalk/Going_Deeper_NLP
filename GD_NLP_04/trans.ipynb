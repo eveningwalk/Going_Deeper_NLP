{
 "cells": [
  {
   "cell_type": "code",
   "execution_count": 1,
   "id": "ebd72bc5",
   "metadata": {},
   "outputs": [
    {
     "name": "stdout",
     "output_type": "stream",
     "text": [
      "완료!\n"
     ]
    }
   ],
   "source": [
    "#그래프 한글표현 인스톨?\n",
    "\n",
    "import matplotlib as mpl\n",
    "import matplotlib.pyplot as plt\n",
    " \n",
    "%config InlineBackend.figure_format = 'retina'\n",
    " \n",
    "import matplotlib.font_manager as fm\n",
    "fontpath = '/usr/share/fonts/truetype/nanum/NanumBarunGothic.ttf'\n",
    "font = fm.FontProperties(fname=fontpath, size=9)\n",
    "plt.rc('font', family='NanumBarunGothic') \n",
    "mpl.font_manager.findfont(font)\n",
    "\n",
    "print(\"완료!\")"
   ]
  },
  {
   "cell_type": "code",
   "execution_count": 2,
   "id": "0c43f4d6",
   "metadata": {},
   "outputs": [],
   "source": [
    "import tensorflow as tf\n",
    "import numpy as np\n",
    "\n",
    "from sklearn.model_selection import train_test_split\n",
    "\n",
    "import matplotlib.ticker as ticker\n",
    "import matplotlib.pyplot as plt\n",
    "\n",
    "import time\n",
    "import re\n",
    "import os\n",
    "import io"
   ]
  },
  {
   "cell_type": "code",
   "execution_count": 3,
   "id": "20aef1bf",
   "metadata": {},
   "outputs": [],
   "source": [
    "def preprocess_sentence(sentence, s_token=False, e_token=False):\n",
    "    sentence = sentence.lower().strip()\n",
    "\n",
    "    sentence = re.sub(r\"([?.!,])\", r\" \\1 \", sentence)\n",
    "    sentence = re.sub(r'[\" \"]+', \" \", sentence)\n",
    "    sentence = re.sub(r\"[^a-zA-Z?.!,가-힣ㄱ-ㅎㅏ-ㅣ0-9]+\", \" \", sentence)\n",
    "\n",
    "    sentence = sentence.strip()\n",
    "\n",
    "    if s_token:\n",
    "        sentence = '<start> ' + sentence\n",
    "\n",
    "    if e_token:\n",
    "        sentence += ' <end>'\n",
    "    \n",
    "    return sentence"
   ]
  },
  {
   "cell_type": "code",
   "execution_count": 4,
   "id": "36f78b3d",
   "metadata": {},
   "outputs": [
    {
     "name": "stdout",
     "output_type": "stream",
     "text": [
      "Data Size: 94123\n",
      "Example:\n",
      ">> 개인용 컴퓨터 사용의 상당 부분은 이것보다 뛰어날 수 있느냐 ?\n",
      ">> 북한의 핵무기 계획을 포기하도록 하려는 압력이 거세지고 있는 가운데 , 일본과 북한의 외교관들이 외교 관계를 정상화하려는 회담을 재개했다 .\n",
      ">> 경호 로보트가 침입자나 화재를 탐지하기 위해서 개인적으로 , 그리고 전문적으로 사용되고 있습니다 .\n",
      ">> 수자원부 당국은 논란이 되고 있고 , 막대한 비용이 드는 이 사업에 대해 내년에 건설을 시작할 계획이다 .\n",
      ">> 또한 근력 운동은 활발하게 걷는 것이나 최소한 20분 동안 뛰는 것과 같은 유산소 활동에서 얻는 운동 효과를 심장과 폐에 주지 않기 때문에 , 연구학자들은 근력 운동이 심장에 큰 영향을 미치는지 여부에 대해 논쟁을 해왔다 .\n",
      "Data Size: 94123\n",
      "Example:\n",
      ">> <start> much of personal computing is about can you top this ? <end>\n",
      ">> <start> amid mounting pressure on north korea to abandon its nuclear weapons program japanese and north korean diplomats have resumed talks on normalizing diplomatic relations . <end>\n",
      ">> <start> guard robots are used privately and professionally to detect intruders or fire , karlsson said . <end>\n",
      ">> <start> authorities from the water resources ministry plan to begin construction next year on the controversial and hugely expensive project . <end>\n",
      ">> <start> researchers also have debated whether weight training has a big impact on the heart , since it does not give the heart and lungs the kind of workout they get from aerobic activities such as brisk walking or running for at least 20 minutes . <end>\n"
     ]
    }
   ],
   "source": [
    "with open('korean-english-park.train.ko', \"r\") as f:\n",
    "    raw = f.read().splitlines()\n",
    "raw = [preprocess_sentence(sentence) for sentence in raw]\n",
    "print(\"Data Size:\", len(raw))\n",
    "print(\"Example:\")\n",
    "\n",
    "for sen in raw[0:100][::20]: print(\">>\", sen)\n",
    "    \n",
    "with open('korean-english-park.train.en', \"r\") as f:\n",
    "    rawen = f.read().splitlines()\n",
    "rawen = [preprocess_sentence(sentence,True,True) for sentence in rawen]\n",
    "print(\"Data Size:\", len(rawen))\n",
    "print(\"Example:\")\n",
    "\n",
    "for sen in rawen[0:100][::20]: print(\">>\", sen)"
   ]
  },
  {
   "cell_type": "code",
   "execution_count": 5,
   "id": "17da0474",
   "metadata": {},
   "outputs": [],
   "source": [
    "#병렬데이터 중복 제거\n",
    "cleaned_corpus = set(zip(raw, rawen))"
   ]
  },
  {
   "cell_type": "code",
   "execution_count": 6,
   "id": "985bf6b5",
   "metadata": {},
   "outputs": [],
   "source": [
    "#데이터 분리\n",
    "ko_dataset1, en_dataset2 = zip(*cleaned_corpus)"
   ]
  },
  {
   "cell_type": "code",
   "execution_count": 7,
   "id": "2640c344",
   "metadata": {},
   "outputs": [
    {
     "name": "stdout",
     "output_type": "stream",
     "text": [
      ">> 슈마허는 싸움이나 불화도 없이 정말 좋은 친구관계였다 고 말했다 .\n",
      ">> 이란 국영 파스통신 fars news agency 는 레자 아가자데 이란 원자력기구 의장 겸 부통령의 말을 인용 , 이번 에 선적한 물품은 17일 도착했다 고 보도했다 .\n",
      ">> 팔레스타인의 국경 공격은 이스라엘 군인을 꾀어내기 위한 것임이 밝혀졌다 .\n",
      ">> 그러나 너무 흥분하지 말고 모든 것이 완벽하게 될 것이라고 기대하지 말라 .\n",
      ">> 백일해는 예방 주사를 맞지 않을 경우 어른이나 아이나 매우 위험하다 .\n",
      ">> <start> we had no falling out , no fight . we were really good friends , says schumacher . <end>\n",
      ">> <start> the head of iran s atomic energy organization , reza aghazadeh , was quoted by iran s fars news agency as telling iranian state television that the shipment arrived monday . <end>\n",
      ">> <start> the purpose of the palestinian incursion apparently was to kidnap an israeli soldier , an israeli official said . <end>\n",
      ">> <start> think positively , but don t get carried away and expect everything to be perfect . <end>\n",
      ">> <start> the greatest danger is to babies , who almost always catch it from unvaccinated adults . <end>\n"
     ]
    }
   ],
   "source": [
    "for sen in ko_dataset1[0:100][::20]: print(\">>\", sen)\n",
    "for sen in en_dataset2[0:100][::20]: print(\">>\", sen)"
   ]
  },
  {
   "cell_type": "code",
   "execution_count": 8,
   "id": "0281a757",
   "metadata": {},
   "outputs": [],
   "source": [
    "def tokenize(corpus):\n",
    "    tokenizer = tf.keras.preprocessing.text.Tokenizer(filters='')\n",
    "    tokenizer.fit_on_texts(corpus)\n",
    "\n",
    "    tensor = tokenizer.texts_to_sequences(corpus)\n",
    "\n",
    "    tensor = tf.keras.preprocessing.sequence.pad_sequences(tensor, padding='post')\n",
    "\n",
    "    return tensor, tokenizer\n",
    "from konlpy.tag import Mecab\n",
    "mecab = Mecab()\n",
    "def tokenize_ko(corpus):\n",
    "     \n",
    "    tokenizer = tf.keras.preprocessing.text.Tokenizer(filters='')\n",
    "    tokenizer.fit_on_texts(mecab.morphs(text) for text in corpus)\n",
    "\n",
    "    tensor = tokenizer.texts_to_sequences(mecab.morphs(text) for text in corpus)\n",
    "\n",
    "    tensor = tf.keras.preprocessing.sequence.pad_sequences(tensor, padding='pre')\n",
    "\n",
    "    return tensor, tokenizer"
   ]
  },
  {
   "cell_type": "code",
   "execution_count": 9,
   "id": "f42a5144",
   "metadata": {
    "scrolled": true
   },
   "outputs": [
    {
     "name": "stdout",
     "output_type": "stream",
     "text": [
      ">> 슈마허는 싸움이나 불화도 없이 정말 좋은 친구관계였다 고 말했다 .\n",
      ">> 이에앞서 프란체스코 토티가 지난달 기자회견에서 국가대표 은퇴를 선언한 바 있다 . 토티는 앞으로 클럽 경기에 집중할 것이라고 밝혔다 .\n",
      ">> 이에앞서 노 대통령은 2박3일간의 방북 일정을 위해 청와대를 출발했다 .\n",
      ">> 피해 여자 아이의 성폭행 장면이 있는 비디오를 경찰에 신고한 대런 턱은 5개월 전 사막에서 이 비디오를 발견했다고 진술했었다 .\n",
      ">> 그는 친딸을 지하실에 감금한 채 자신의 7명의 자녀를 낳게 한 범죄로 기소되었습니다 .\n",
      ">> <start> we had no falling out , no fight . we were really good friends , says schumacher . <end>\n",
      ">> <start> nesta follows roma s francesco totti , who made a similar decision last month , in choosing to concentrate on club commitments . <end>\n",
      ">> <start> roh became the first leader from either side to cross the border on foot . <end>\n",
      ">> <start> the tape of the girl s sexual assault was given to authorities by darren tuck , who told police he had found it in the desert five months earlier . <end>\n",
      ">> <start> he is accused of fathering 7 children with a daughter he kept locked in a basement . <end>\n"
     ]
    }
   ],
   "source": [
    "selected_data = []\n",
    "max_token_length = 40 #토큰의 길이가 40 이하인 데이터를 선별\n",
    "for sentence1, sentence2 in cleaned_corpus:\n",
    "    tokens1 = mecab.morphs(sentence1)\n",
    "    tokens2 = sentence2.split()\n",
    "    \n",
    "    if len(tokens1) <= max_token_length and len(tokens2) <= max_token_length:\n",
    "        selected_data.append((sentence1, sentence2))\n",
    "# for sentence1, sentence2 in selected_data:\n",
    "#     print(sentence1, sentence2)        \n",
    "# ko_dataset1, en_dataset2 = zip(*selected_data)\n",
    "ko_dataset1 = [data[0] for data in selected_data]\n",
    "en_dataset2 = [data[1] for data in selected_data]\n",
    "for sen in ko_dataset1[0:100][::20]: print(\">>\", sen)\n",
    "for sen in en_dataset2[0:100][::20]: print(\">>\", sen)"
   ]
  },
  {
   "cell_type": "code",
   "execution_count": 10,
   "id": "5878c56a",
   "metadata": {},
   "outputs": [],
   "source": [
    "dec_train, dec_tokenizer = tokenize(en_dataset2)\n",
    "enc_train, enc_tokenizer = tokenize_ko(ko_dataset1)\n"
   ]
  },
  {
   "cell_type": "code",
   "execution_count": 11,
   "id": "d88151da",
   "metadata": {},
   "outputs": [
    {
     "name": "stdout",
     "output_type": "stream",
     "text": [
      "(61052, 40)\n",
      "(61052, 40)\n"
     ]
    }
   ],
   "source": [
    "print(enc_train.shape)\n",
    "print(dec_train.shape)"
   ]
  },
  {
   "cell_type": "code",
   "execution_count": 12,
   "id": "d04da79b",
   "metadata": {},
   "outputs": [
    {
     "name": "stdout",
     "output_type": "stream",
     "text": [
      ">> [    0     0     0     0     0     0     0     0     0     0     0     0\n",
      "     0     0     0     0     0     0     0     0     0 14413     4  2495\n",
      "   302  5725    34   576  1531   280     7   478   258   166     2    12\n",
      "    30     9     2     1]\n",
      ">> [    0     0     0     0     0     3     8   350 20363  8997    13   613\n",
      "   185   579    16   139   298  2822    10   791    18   221    14     2\n",
      "     1  8997     4   339    19  1467   163     8  1360    36    20     3\n",
      "    35    39     2     1]\n",
      ">> [   0    0    0    0    0    0    0    0    0    0    0    0    0    0\n",
      "    0    0    0    0    3    8  350  534   47    7   50 2106   65   26\n",
      "  100    6 6216  855    5   66 1724   10 1638    9    2    1]\n",
      ">> [   0    0    0    0    0  282  631  208    6 1446  984    3   14    4\n",
      "  875   10   73    8  774   12   18  104 5731 4604    7   85  419   51\n",
      " 2664   16    3  875   10  177    9   22 1373  427    2    1]\n",
      ">> [    0     0     0     0     0     0     0     0     0     0     0     0\n",
      "     0     0    23     4 10491     5  7978     8  3137    18   375    91\n",
      "     6   138    27     6  1199    10  1859    43    18   857    21   727\n",
      "    38    31    49     1]\n",
      ">> [    3    60    37    79  2424    68     5    79   805     2    60    31\n",
      "   637   292  1209     5    83 13580     2     4     0     0     0     0\n",
      "     0     0     0     0     0     0     0     0     0     0     0     0\n",
      "     0     0     0     0]\n",
      ">> [    3 18967  2248  4640    11 13585 15682     5    39   137     8   918\n",
      "   387    67   154     5     9  6043     6  8156    14  1177  6044     2\n",
      "     4     0     0     0     0     0     0     0     0     0     0     0\n",
      "     0     0     0     0]\n",
      ">> [   3  403  840    1   66  215   24 1252  544    6  841    1  519   14\n",
      " 1131    2    4    0    0    0    0    0    0    0    0    0    0    0\n",
      "    0    0    0    0    0    0    0    0    0    0    0    0]\n",
      ">> [   3    1 2389    7    1  871   11 1452 1677   17  711    6  213   25\n",
      " 9272 8160    5   39   84   63   20   37  168   18    9    1 3380  163\n",
      "  248  222    2    4    0    0    0    0    0    0    0    0]\n",
      ">> [    3    20    16   463     7 18983   304   214    19     8   872    20\n",
      "  1378  4385     9     8  6589     2     4     0     0     0     0     0\n",
      "     0     0     0     0     0     0     0     0     0     0     0     0\n",
      "     0     0     0     0]\n"
     ]
    }
   ],
   "source": [
    "for sen in enc_train[0:100][::20]: print(\">>\", sen)\n",
    "for sen in dec_train[0:100][::20]: print(\">>\", sen)"
   ]
  },
  {
   "cell_type": "code",
   "execution_count": 13,
   "id": "326a8e6b",
   "metadata": {},
   "outputs": [],
   "source": [
    "class BahdanauAttention(tf.keras.layers.Layer):\n",
    "    def __init__(self, units):\n",
    "        super(BahdanauAttention, self).__init__()\n",
    "        self.w_dec = tf.keras.layers.Dense(units)\n",
    "        self.w_enc = tf.keras.layers.Dense(units)\n",
    "        self.w_com = tf.keras.layers.Dense(1)\n",
    "    \n",
    "    def call(self, h_enc, h_dec):\n",
    "        # h_enc shape: [batch x length x units]\n",
    "        # h_dec shape: [batch x units]\n",
    "\n",
    "        h_enc = self.w_enc(h_enc)\n",
    "        h_dec = tf.expand_dims(h_dec, 1)\n",
    "        h_dec = self.w_dec(h_dec)\n",
    "\n",
    "        score = self.w_com(tf.nn.tanh(h_dec + h_enc))\n",
    "        \n",
    "        attn = tf.nn.softmax(score, axis=1)\n",
    "\n",
    "        context_vec = attn * h_enc\n",
    "        context_vec = tf.reduce_sum(context_vec, axis=1)\n",
    "\n",
    "        return context_vec, attn\n",
    "\n"
   ]
  },
  {
   "cell_type": "code",
   "execution_count": 14,
   "id": "66b1bf95",
   "metadata": {},
   "outputs": [],
   "source": [
    "class Encoder(tf.keras.Model):\n",
    "    def __init__(self, vocab_size, embedding_dim, enc_units):\n",
    "        super(Encoder, self).__init__()\n",
    "        \n",
    "        self.enc_units = enc_units\n",
    "        self.embedding = tf.keras.layers.Embedding(vocab_size, embedding_dim)\n",
    "        self.gru = tf.keras.layers.GRU(enc_units,\n",
    "                                       return_sequences=True)\n",
    "        \n",
    "    def call(self, x):\n",
    "        out = self.embedding(x)\n",
    "        out = self.gru(out)\n",
    "        \n",
    "        return out"
   ]
  },
  {
   "cell_type": "code",
   "execution_count": 15,
   "id": "f03ef19a",
   "metadata": {},
   "outputs": [],
   "source": [
    "class Decoder(tf.keras.Model):\n",
    "    def __init__(self, vocab_size, embedding_dim, dec_units):\n",
    "        super(Decoder, self).__init__()\n",
    "        self.dec_units = dec_units\n",
    "        self.embedding = tf.keras.layers.Embedding(vocab_size, embedding_dim)\n",
    "        self.gru = tf.keras.layers.GRU(dec_units,\n",
    "                                       return_sequences=True,\n",
    "                                       return_state=True)\n",
    "        self.fc = tf.keras.layers.Dense(vocab_size)\n",
    "\n",
    "        self.attention = BahdanauAttention(self.dec_units)\n",
    "\n",
    "    def call(self, x, h_dec, enc_out):\n",
    "        context_vec, attn = self.attention(enc_out, h_dec)\n",
    "\n",
    "        out = self.embedding(x)\n",
    "        out = tf.concat([tf.expand_dims(context_vec, 1), out], axis=-1)\n",
    "        \n",
    "        out, h_dec = self.gru(out)\n",
    "        out = tf.reshape(out, (-1, out.shape[2]))\n",
    "        out = self.fc(out)\n",
    "\n",
    "        return out, h_dec, attn"
   ]
  },
  {
   "cell_type": "code",
   "execution_count": 16,
   "id": "e7c4a245",
   "metadata": {},
   "outputs": [
    {
     "name": "stdout",
     "output_type": "stream",
     "text": [
      "Encoder Output: (64, 40, 1024)\n",
      "Decoder Output: (64, 39259)\n",
      "Decoder Hidden State: (64, 1024)\n",
      "Attention: (64, 40, 1)\n"
     ]
    }
   ],
   "source": [
    "# 코드를 실행하세요.\n",
    "\n",
    "BATCH_SIZE     = 64\n",
    "SRC_VOCAB_SIZE = len(enc_tokenizer.index_word) + 1\n",
    "TGT_VOCAB_SIZE = len(dec_tokenizer.index_word) + 1\n",
    "\n",
    "units         = 1024\n",
    "embedding_dim = 512\n",
    "\n",
    "encoder = Encoder(SRC_VOCAB_SIZE, embedding_dim, units)\n",
    "decoder = Decoder(TGT_VOCAB_SIZE, embedding_dim, units)\n",
    "\n",
    "# sample input\n",
    "sequence_len = 40\n",
    "\n",
    "sample_enc = tf.random.uniform((BATCH_SIZE, sequence_len))\n",
    "sample_output = encoder(sample_enc)\n",
    "\n",
    "print ('Encoder Output:', sample_output.shape)\n",
    "\n",
    "sample_state = tf.random.uniform((BATCH_SIZE, units))\n",
    "\n",
    "sample_logits, h_dec, attn = decoder(tf.random.uniform((BATCH_SIZE, 1)),\n",
    "                                     sample_state, sample_output)\n",
    "\n",
    "print ('Decoder Output:', sample_logits.shape)\n",
    "print ('Decoder Hidden State:', h_dec.shape)\n",
    "print ('Attention:', attn.shape)"
   ]
  },
  {
   "cell_type": "code",
   "execution_count": 17,
   "id": "9bb44177",
   "metadata": {},
   "outputs": [],
   "source": [
    "optimizer = tf.keras.optimizers.Adam()\n",
    "loss_object = tf.keras.losses.SparseCategoricalCrossentropy(\n",
    "    from_logits=True, reduction='none')\n",
    "\n",
    "def loss_function(real, pred):\n",
    "    mask = tf.math.logical_not(tf.math.equal(real, 0))\n",
    "    loss = loss_object(real, pred)\n",
    "    \n",
    "    mask = tf.cast(mask, dtype=loss.dtype)\n",
    "    loss *= mask\n",
    "    \n",
    "    return tf.reduce_mean(loss)\n",
    "\n"
   ]
  },
  {
   "cell_type": "code",
   "execution_count": 18,
   "id": "40ef917e",
   "metadata": {},
   "outputs": [],
   "source": [
    "@tf.function\n",
    "def train_step(src, tgt, encoder, decoder, optimizer, dec_tok):\n",
    "    bsz = src.shape[0]\n",
    "    loss = 0\n",
    "\n",
    "    with tf.GradientTape() as tape:\n",
    "        enc_out = encoder(src)\n",
    "        h_dec = enc_out[:, -1]\n",
    "        \n",
    "        dec_src = tf.expand_dims([dec_tok.word_index['<start>']] * bsz, 1)\n",
    "\n",
    "        for t in range(1, tgt.shape[1]):\n",
    "            pred, h_dec, _ = decoder(dec_src, h_dec, enc_out)\n",
    "\n",
    "            loss += loss_function(tgt[:, t], pred)\n",
    "            dec_src = tf.expand_dims(tgt[:, t], 1)\n",
    "        \n",
    "    batch_loss = (loss / int(tgt.shape[1]))\n",
    "#     print(encoder.trainable_variables)\n",
    "#     print(decoder.trainable_variables)\n",
    "    variables = encoder.trainable_variables + decoder.trainable_variables\n",
    "    gradients = tape.gradient(loss, variables)\n",
    "    optimizer.apply_gradients(zip(gradients, variables))\n",
    "    \n",
    "    return batch_loss\n",
    "\n"
   ]
  },
  {
   "cell_type": "code",
   "execution_count": 19,
   "id": "db7ab251",
   "metadata": {},
   "outputs": [
    {
     "name": "stderr",
     "output_type": "stream",
     "text": [
      "Epoch  1: 100%|██████████| 954/954 [11:08<00:00,  1.43it/s, Loss 4.2121] \n",
      "Epoch  2: 100%|██████████| 954/954 [10:03<00:00,  1.58it/s, Loss 4.1947]\n",
      "Epoch  3: 100%|██████████| 954/954 [10:02<00:00,  1.58it/s, Loss 4.2034]\n",
      "Epoch  4: 100%|██████████| 954/954 [10:03<00:00,  1.58it/s, Loss 4.2005]\n",
      "Epoch  5: 100%|██████████| 954/954 [10:03<00:00,  1.58it/s, Loss 4.2018]\n",
      "Epoch  6: 100%|██████████| 954/954 [10:03<00:00,  1.58it/s, Loss 4.2017]\n",
      "Epoch  7: 100%|██████████| 954/954 [10:02<00:00,  1.58it/s, Loss 4.2015]\n",
      "Epoch  8: 100%|██████████| 954/954 [10:03<00:00,  1.58it/s, Loss 4.2005]\n",
      "Epoch  9: 100%|██████████| 954/954 [10:02<00:00,  1.58it/s, Loss 4.2022]\n",
      "Epoch 10: 100%|██████████| 954/954 [10:02<00:00,  1.58it/s, Loss 4.2022]\n",
      "Epoch 11: 100%|██████████| 954/954 [10:03<00:00,  1.58it/s, Loss 4.2026]\n",
      "Epoch 12: 100%|██████████| 954/954 [10:03<00:00,  1.58it/s, Loss 4.2015]\n",
      "Epoch 13: 100%|██████████| 954/954 [10:03<00:00,  1.58it/s, Loss 4.2013]\n",
      "Epoch 14: 100%|██████████| 954/954 [10:02<00:00,  1.58it/s, Loss 4.2016]\n",
      "Epoch 15: 100%|██████████| 954/954 [10:02<00:00,  1.58it/s, Loss 4.2026]\n",
      "Epoch 16: 100%|██████████| 954/954 [10:02<00:00,  1.58it/s, Loss 4.2019]\n",
      "Epoch 17: 100%|██████████| 954/954 [10:02<00:00,  1.58it/s, Loss 4.2017]\n",
      "Epoch 18: 100%|██████████| 954/954 [10:02<00:00,  1.58it/s, Loss 4.2017]\n",
      "Epoch 19: 100%|██████████| 954/954 [10:02<00:00,  1.58it/s, Loss 4.2007]\n",
      "Epoch 20: 100%|██████████| 954/954 [10:01<00:00,  1.59it/s, Loss 4.0797]\n"
     ]
    }
   ],
   "source": [
    "from tqdm import tqdm    # tqdm\n",
    "import random\n",
    "\n",
    "EPOCHS = 20\n",
    "\n",
    "for epoch in range(EPOCHS):\n",
    "    total_loss = 0\n",
    "    \n",
    "    idx_list = list(range(0, enc_train.shape[0], BATCH_SIZE))\n",
    "    random.shuffle(idx_list)\n",
    "    t = tqdm(idx_list)    # tqdm\n",
    "\n",
    "    for (batch, idx) in enumerate(t):\n",
    "        batch_loss = train_step(enc_train[idx:idx+BATCH_SIZE],\n",
    "                                dec_train[idx:idx+BATCH_SIZE],\n",
    "                                encoder,\n",
    "                                decoder,\n",
    "                                optimizer,\n",
    "                                dec_tokenizer)\n",
    "    \n",
    "        total_loss += batch_loss\n",
    "        \n",
    "        t.set_description_str('Epoch %2d' % (epoch + 1))    # tqdm\n",
    "        t.set_postfix_str('Loss %.4f' % (total_loss.numpy() / (batch + 1)))    # tqdm\n",
    "#         break"
   ]
  },
  {
   "cell_type": "code",
   "execution_count": 20,
   "id": "f1057a57",
   "metadata": {},
   "outputs": [
    {
     "name": "stdout",
     "output_type": "stream",
     "text": [
      "the\n",
      ".\n",
      "<start>\n",
      "<end>\n",
      "40\n",
      "tf.Tensor([[3]], shape=(1, 1), dtype=int32)\n",
      "tf.Tensor([[1]], shape=(1, 1), dtype=int32)\n",
      "tf.Tensor([[1]], shape=(1, 1), dtype=int32)\n",
      "tf.Tensor([[1]], shape=(1, 1), dtype=int32)\n",
      "tf.Tensor([[1]], shape=(1, 1), dtype=int32)\n",
      "tf.Tensor([[1]], shape=(1, 1), dtype=int32)\n",
      "tf.Tensor([[1]], shape=(1, 1), dtype=int32)\n",
      "tf.Tensor([[1]], shape=(1, 1), dtype=int32)\n",
      "tf.Tensor([[1]], shape=(1, 1), dtype=int32)\n",
      "tf.Tensor([[1]], shape=(1, 1), dtype=int32)\n",
      "tf.Tensor([[1]], shape=(1, 1), dtype=int32)\n",
      "tf.Tensor([[1]], shape=(1, 1), dtype=int32)\n",
      "tf.Tensor([[1]], shape=(1, 1), dtype=int32)\n",
      "tf.Tensor([[1]], shape=(1, 1), dtype=int32)\n",
      "tf.Tensor([[1]], shape=(1, 1), dtype=int32)\n",
      "tf.Tensor([[1]], shape=(1, 1), dtype=int32)\n",
      "tf.Tensor([[1]], shape=(1, 1), dtype=int32)\n",
      "tf.Tensor([[1]], shape=(1, 1), dtype=int32)\n",
      "tf.Tensor([[1]], shape=(1, 1), dtype=int32)\n",
      "tf.Tensor([[1]], shape=(1, 1), dtype=int32)\n",
      "tf.Tensor([[1]], shape=(1, 1), dtype=int32)\n",
      "tf.Tensor([[1]], shape=(1, 1), dtype=int32)\n",
      "tf.Tensor([[1]], shape=(1, 1), dtype=int32)\n",
      "tf.Tensor([[1]], shape=(1, 1), dtype=int32)\n",
      "tf.Tensor([[1]], shape=(1, 1), dtype=int32)\n",
      "tf.Tensor([[1]], shape=(1, 1), dtype=int32)\n",
      "tf.Tensor([[1]], shape=(1, 1), dtype=int32)\n",
      "tf.Tensor([[1]], shape=(1, 1), dtype=int32)\n",
      "tf.Tensor([[1]], shape=(1, 1), dtype=int32)\n",
      "tf.Tensor([[1]], shape=(1, 1), dtype=int32)\n",
      "tf.Tensor([[1]], shape=(1, 1), dtype=int32)\n",
      "tf.Tensor([[1]], shape=(1, 1), dtype=int32)\n",
      "tf.Tensor([[1]], shape=(1, 1), dtype=int32)\n",
      "tf.Tensor([[1]], shape=(1, 1), dtype=int32)\n",
      "tf.Tensor([[1]], shape=(1, 1), dtype=int32)\n",
      "tf.Tensor([[1]], shape=(1, 1), dtype=int32)\n",
      "tf.Tensor([[1]], shape=(1, 1), dtype=int32)\n",
      "tf.Tensor([[1]], shape=(1, 1), dtype=int32)\n",
      "tf.Tensor([[1]], shape=(1, 1), dtype=int32)\n",
      "tf.Tensor([[1]], shape=(1, 1), dtype=int32)\n",
      "Input: 구랍 찬드 카라리아 라자스탄 주정부 관리는 테러가 발생한 전 지역에서 오토바이들이 발견됐다고 전했다 .\n",
      "Predicted translation: the the the the the the the the the the the the the the the the the the the the the the the the the the the the the the the the the the the the the the the the \n"
     ]
    },
    {
     "name": "stderr",
     "output_type": "stream",
     "text": [
      "/tmp/ipykernel_335/1324087137.py:48: UserWarning: FixedFormatter should only be used together with FixedLocator\n",
      "  ax.set_xticklabels([''] + sentence, fontdict=fontdict, rotation=90)\n",
      "/tmp/ipykernel_335/1324087137.py:49: UserWarning: FixedFormatter should only be used together with FixedLocator\n",
      "  ax.set_yticklabels([''] + predicted_sentence, fontdict=fontdict)\n"
     ]
    },
    {
     "data": {
      "image/png": "[encoded data removed]",
      "text/plain": [
       "<Figure size 720x720 with 1 Axes>"
      ]
     },
     "metadata": {
      "image/png": {
       "height": 643,
       "width": 233
      },
      "needs_background": "light"
     },
     "output_type": "display_data"
    }
   ],
   "source": [
    "def evaluate(sentence, encoder, decoder):\n",
    "    attention = np.zeros((dec_train.shape[-1], enc_train.shape[-1]))\n",
    "    \n",
    "    sentence = preprocess_sentence(sentence)\n",
    "    inputs = enc_tokenizer.texts_to_sequences([mecab.morphs(sentence)])#형태소분석결과를 인풋으로 넣어준다\n",
    "    inputs = tf.keras.preprocessing.sequence.pad_sequences(inputs,\n",
    "                                                           maxlen=enc_train.shape[-1],\n",
    "                                                           padding='pre')\n",
    "    print(enc_train.shape[-1])\n",
    "    result = ''\n",
    "#     print(inputs)\n",
    "    enc_out = encoder(inputs)\n",
    "#     print(enc_out)\n",
    "    dec_hidden = enc_out[:, -1]\n",
    "    dec_input = tf.expand_dims([dec_tokenizer.word_index['<start>']], 0)\n",
    "\n",
    "    for t in range(dec_train.shape[-1]):\n",
    "        print(dec_input)\n",
    "        predictions, dec_hidden, attention_weights = decoder(dec_input,\n",
    "                                                             dec_hidden,\n",
    "                                                             enc_out)\n",
    "\n",
    "        attention_weights = tf.reshape(attention_weights, (-1, ))\n",
    "        attention[t] = attention_weights.numpy()\n",
    "#         print(dec_input)\n",
    "#         print(dec_hidden)\n",
    "#         print(enc_out)\n",
    "        predicted_id = \\\n",
    "        tf.argmax(tf.math.softmax(predictions, axis=-1)[0]).numpy()\n",
    "#         print(predicted_id)\n",
    "        result += dec_tokenizer.index_word[predicted_id] + ' '\n",
    "\n",
    "        if dec_tokenizer.index_word[predicted_id] == '<end>':\n",
    "            return result, sentence, attention\n",
    "\n",
    "        dec_input = tf.expand_dims([predicted_id], 0)\n",
    "\n",
    "    return result, sentence, attention\n",
    "\n",
    "\n",
    "def plot_attention(attention, sentence, predicted_sentence):\n",
    "    fig = plt.figure(figsize=(10,10))\n",
    "    ax = fig.add_subplot(1, 1, 1)\n",
    "    ax.matshow(attention, cmap='viridis')\n",
    "\n",
    "    fontdict = {'fontsize': 14}\n",
    "\n",
    "    ax.set_xticklabels([''] + sentence, fontdict=fontdict, rotation=90)\n",
    "    ax.set_yticklabels([''] + predicted_sentence, fontdict=fontdict)\n",
    "\n",
    "    ax.xaxis.set_major_locator(ticker.MultipleLocator(1))\n",
    "    ax.yaxis.set_major_locator(ticker.MultipleLocator(1))\n",
    "\n",
    "    plt.show()\n",
    "\n",
    "\n",
    "def translate(sentence, encoder, decoder):\n",
    "    result, sentence, attention = evaluate(sentence, encoder, decoder)\n",
    "\n",
    "    print('Input: %s' % (sentence))\n",
    "    print('Predicted translation: {}'.format(result))\n",
    "    \n",
    "    attention = attention[:len(result.split()), :len(sentence.split())]\n",
    "    plot_attention(attention, sentence.split(), result.split(' '))\n",
    "# print(mecab.morphs(\"바보 바보 바보 바보\"))\n",
    "# print(dec_tokenizer.index_word[0])\n",
    "print(dec_tokenizer.index_word[1])\n",
    "print(dec_tokenizer.index_word[2])\n",
    "print(dec_tokenizer.index_word[3])\n",
    "print(dec_tokenizer.index_word[4])\n",
    "# print(enc_tokenizer.texts_to_sequences([\"바보 바보 바보 바보\".split()]))\n",
    "translate(\"구랍 찬드 카라리아 라자스탄 주정부 관리는 테러가 발생한 전 지역에서 오토바이들이 발견됐다고 전했다 .\", encoder, decoder)"
   ]
  }
 ],
 "metadata": {
  "kernelspec": {
   "display_name": "Python 3 (ipykernel)",
   "language": "python",
   "name": "python3"
  },
  "language_info": {
   "codemirror_mode": {
    "name": "ipython",
    "version": 3
   },
   "file_extension": ".py",
   "mimetype": "text/x-python",
   "name": "python",
   "nbconvert_exporter": "python",
   "pygments_lexer": "ipython3",
   "version": "3.9.7"
  }
 },
 "nbformat": 4,
 "nbformat_minor": 5
}
